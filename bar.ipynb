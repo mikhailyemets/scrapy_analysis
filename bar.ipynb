{
 "cells": [
  {
   "cell_type": "code",
   "execution_count": null,
   "id": "initial_id",
   "metadata": {
    "collapsed": true
   },
   "outputs": [],
   "source": [
    "import pandas as pd\n",
    "from collections import Counter\n",
    "import matplotlib.pyplot as plt\n",
    "import seaborn as sns\n",
    "import ast\n",
    "\n",
    "dataframe = pd.read_csv(\"vacancies_technologies.csv\")\n",
    "dataframe[\"technologies\"] = dataframe[\"technologies\"].apply(ast.literal_eval)\n",
    "all_technologies = [tech for sublist in dataframe[\"technologies\"] for tech in sublist]\n",
    "\n",
    "tech_counts = Counter(all_technologies)\n",
    "top_15_techs = tech_counts.most_common(15)\n",
    "technologies, counts = zip(*top_15_techs)\n",
    "\n",
    "plot_data = pd.DataFrame({\"Technology\": technologies, \"Count\": counts})\n",
    "\n",
    "plt.figure(figsize=(14, 8))\n",
    "sns.barplot(data=plot_data, x=\"Technology\", y=\"Count\", hue=\"Technology\", dodge=False, palette=\"viridis\", legend=False)\n",
    "plt.xlabel(\"Technologies\")\n",
    "plt.ylabel(\"Counts\")\n",
    "plt.title(\"Top 15 Most Popular Technologies\")\n",
    "plt.xticks(rotation=45)\n",
    "plt.show()\n"
   ]
  }
 ],
 "metadata": {
  "kernelspec": {
   "display_name": "Python 3",
   "language": "python",
   "name": "python3"
  },
  "language_info": {
   "codemirror_mode": {
    "name": "ipython",
    "version": 2
   },
   "file_extension": ".py",
   "mimetype": "text/x-python",
   "name": "python",
   "nbconvert_exporter": "python",
   "pygments_lexer": "ipython2",
   "version": "2.7.6"
  }
 },
 "nbformat": 4,
 "nbformat_minor": 5
}
